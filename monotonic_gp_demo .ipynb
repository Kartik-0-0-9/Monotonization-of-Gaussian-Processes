{
  "metadata": {
    "kernelspec": {
      "name": "python",
      "display_name": "Python (Pyodide)",
      "language": "python"
    },
    "language_info": {
      "codemirror_mode": {
        "name": "python",
        "version": 3
      },
      "file_extension": ".py",
      "mimetype": "text/x-python",
      "name": "python",
      "nbconvert_exporter": "python",
      "pygments_lexer": "ipython3",
      "version": "3.8"
    }
  },
  "nbformat_minor": 5,
  "nbformat": 4,
  "cells": [
    {
      "id": "3de3d2f0-0c11-4154-90b5-62956732d781",
      "cell_type": "code",
      "source": "# Cell 1: imports & path setup\nimport sys\nfrom pathlib import Path\nimport numpy as np\nimport GPy\nimport matplotlib.pyplot as plt\nrepo_root = Path.cwd().parents[0] if (Path.cwd() / 'notebooks').exists() else Path.cwd()\nfunctions_path = repo_root / 'functions'\nsys.path.append(str(functions_path.resolve()))\nfrom monotonic_gp_utils import gp_monotonic\nprint(\"Imported gp_monotonic from:\", functions_path.resolve())",
      "metadata": {},
      "outputs": [],
      "execution_count": null
    },
    {
      "id": "8618bf46-1e09-4fd7-a2bf-ea89d37e20a6",
      "cell_type": "code",
      "source": "# Cell 2: generate synthetic data\nnp.random.seed(42)\nX = np.sort(np.random.uniform(0.1, 6, 50))[:, None]\nY = np.where(X < 3, 0.0, 0.5) + 0.05 * np.random.randn(*X.shape)\n\nplt.figure(figsize=(6, 3))\nplt.plot(X, Y, 'kx')\nplt.title('Training data (step-like)')\nplt.xlabel('X')\nplt.ylabel('Y')\nplt.show()\n",
      "metadata": {},
      "outputs": [],
      "execution_count": null
    },
    {
      "id": "37bd7d72-3832-4890-b410-f5cf9077b69a",
      "cell_type": "code",
      "source": "# Cell 3: base GP and monotonic GP\nkernel = GPy.kern.RBF(input_dim=1, variance=1.0, lengthscale=2.0)\nbase_model = GPy.models.GPRegression(X, Y, kernel)\n\nmono_model = gp_monotonic(base_model, X, Y,\n                          nvd=[1.0],\n                          nu=1e-8,\n                          nv=10,\n                          force=True,\n                          display=True,\n                          optimize='on',\n                          init='sample')\n",
      "metadata": {},
      "outputs": [],
      "execution_count": null
    },
    {
      "id": "aa19df5c-9248-4401-abf0-9fd2f1bbbf43",
      "cell_type": "code",
      "source": "# Cell 4: standard GP for comparison\nstandard_gp = GPy.models.GPRegression(X, Y, kernel.copy())\nstandard_gp.Gaussian_noise.variance = 0.01\nstandard_gp.optimize(messages=True)\n",
      "metadata": {},
      "outputs": [],
      "execution_count": null
    },
    {
      "id": "2007099c-9d26-45df-b72f-1581c76fcb18",
      "cell_type": "code",
      "source": "# Cell 5: predictions, plotting and saving result\nXtest = np.linspace(0.1, 6, 200)[:, None]\nmu_mono, var_mono = mono_model.predict(Xtest, full_cov=False, include_likelihood=False)\nmu_standard, var_standard = standard_gp.predict(Xtest, full_cov=False, include_likelihood=False)\n\n# Flatten / ensure shapes\nmu_mono = mu_mono[:, 0]\nvar_mono = np.clip(var_mono.squeeze(), 1e-6, None)\nmu_standard = mu_standard[:, 0]\nvar_standard = np.clip(var_standard.squeeze(), 1e-6, None)\n\nplt.figure(figsize=(10, 6))\nplt.plot(X, Y, 'kx', label=\"Training Data (Step Function)\")\n\nplt.plot(Xtest, mu_mono, '-', label=\"Monotonic GP Mean\")\nplt.fill_between(Xtest.ravel(),from pathlib import Path\nimport os\n\n# --- Save plot safely in repo structure ---\nrepo_root = Path.cwd().parents[0] if (Path.cwd() / 'notebooks').exists() else Path.cwd()\nresults_dir = repo_root / 'results'\n\n# Make sure 'results' folder exists\nos.makedirs(results_dir, exist_ok=True)\n\n# Save the figure\nplot_path = results_dir / 'result_plot.png'\nplt.savefig(plot_path, dpi=200)\nplt.show()\n\nprint(f\"✅ Saved plot to: {plot_path.resolve()}\")\n\n                 mu_mono - 2 * np.sqrt(var_mono),\n                 mu_mono + 2 * np.sqrt(var_mono),\n                 alpha=0.2, label=\"Monotonic GP 95% CI\")\n\nplt.plot(Xtest, mu_standard, '--', label=\"Standard GP Mean\")\nplt.fill_between(Xtest.ravel(),\n                 mu_standard - 2 * np.sqrt(var_standard),\n                 mu_standard + 2 * np.sqrt(var_standard),\n                 alpha=0.2, label=\"Standard GP 95% CI\")\n\nplt.title(\"Monotonic GP vs. Standard GP (Step Function)\")\nplt.xlabel(\"X\")\nplt.ylabel(\"Y\")\nplt.legend()\nplt.tight_layout()\n\nfrom pathlib import Path\nimport os\nrepo_root = Path.cwd().parents[0] if (Path.cwd() / 'notebooks').exists() else Path.cwd()\nresults_dir = repo_root / 'results'\nos.makedirs(results_dir, exist_ok=True)\nplot_path = results_dir / 'result_plot.png'\nplt.savefig(plot_path, dpi=200)\nplt.show()\nprint(f\"Saved plot to: {plot_path.resolve()}\")\n",
      "metadata": {},
      "outputs": [],
      "execution_count": null
    }
  ]
}